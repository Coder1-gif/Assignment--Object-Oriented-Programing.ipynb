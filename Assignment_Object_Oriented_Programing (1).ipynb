{
  "nbformat": 4,
  "nbformat_minor": 0,
  "metadata": {
    "colab": {
      "provenance": []
    },
    "kernelspec": {
      "name": "python3",
      "display_name": "Python 3"
    },
    "language_info": {
      "name": "python"
    }
  },
  "cells": [
    {
      "cell_type": "markdown",
      "source": [
        "Q1.Explain the importance of Functions.\n",
        "\n",
        "Functions are fundamental in mathematics and programming, serving as a way to relate inputs to outputs. They enable the modeling of real-world phenomena, facilitate problem-solving, and promote code reusability. By encapsulating behavior, functions simplify complex tasks, enhance clarity, and allow for easier debugging and maintenance in software development.\n",
        "\n",
        "\n"
      ],
      "metadata": {
        "id": "hnbakgkfE1iy"
      }
    },
    {
      "cell_type": "code",
      "source": [
        "#Q2. Write a basic function to greet students\n",
        "\n",
        "def greet_students(names):\n",
        "    for name in names:\n",
        "        print(f\"Hello, {name}! Welcome to the class.\")\n",
        "\n",
        "# Example usage\n",
        "students = [\"Alice\", \"Bob\", \"Charlie\"]\n",
        "greet_students(students)\n"
      ],
      "metadata": {
        "colab": {
          "base_uri": "https://localhost:8080/"
        },
        "id": "F269LiY4FKVz",
        "outputId": "e0c1fc6a-6f06-45b3-fdb9-d2d0853cff4f"
      },
      "execution_count": null,
      "outputs": [
        {
          "output_type": "stream",
          "name": "stdout",
          "text": [
            "Hello, Alice! Welcome to the class.\n",
            "Hello, Bob! Welcome to the class.\n",
            "Hello, Charlie! Welcome to the class.\n"
          ]
        }
      ]
    },
    {
      "cell_type": "markdown",
      "source": [
        "Q3. What is the difference between print and return statements\n",
        "\n",
        "The print statement displays output to the console, mainly for user interaction or debugging. The return statement sends a value back from a function to the caller, allowing further use in code. While print shows results, return enables data flow and reuse in programs. They serve different purposes.\n",
        "\n",
        "\n",
        "\n",
        "\n",
        "\n",
        "\n",
        "\n",
        "\n",
        "\n",
        "\n"
      ],
      "metadata": {
        "id": "aeQR7wSfGCy5"
      }
    },
    {
      "cell_type": "markdown",
      "source": [],
      "metadata": {
        "id": "OuzxQ8ivGbRE"
      }
    },
    {
      "cell_type": "markdown",
      "source": [
        "Q4. What are *args and **kwargs.\n",
        "\n",
        "*args allows a function to accept any number of positional arguments as a tuple. **kwargs lets it accept any number of keyword arguments as a dictionary. They enable flexible function definitions, making it easier to handle varying inputs without changing the function's structure or requiring fixed parameters.\n",
        "\n",
        "\n",
        "\n",
        "\n",
        "\n",
        "\n",
        "\n",
        "\n",
        "\n"
      ],
      "metadata": {
        "id": "lON6cAVLGqoV"
      }
    },
    {
      "cell_type": "markdown",
      "source": [
        "Q5.Explain the iterator function.\n",
        "\n",
        "An iterator in Python is an object that allows traversal through all the elements of a collection, one at a time. It implements two methods:\n",
        "\n",
        "__iter__() returns the iterator object itself.\n",
        "\n",
        "__next__() returns the next item.\n",
        "\n",
        "When there are no more items, __next__() raises a StopIteration exception."
      ],
      "metadata": {
        "id": "VqKlI9GZG-KN"
      }
    },
    {
      "cell_type": "code",
      "source": [
        "#Q6. Write a code that generates the squares of numbers from 1 to n using a generator\n",
        "\n",
        "def square_generator(n):\n",
        "    for i in range(1, n + 1):\n",
        "        yield i * i\n",
        "\n",
        "# Example usage:\n",
        "n = 10\n",
        "for square in square_generator(n):\n",
        "    print(square)\n"
      ],
      "metadata": {
        "colab": {
          "base_uri": "https://localhost:8080/"
        },
        "id": "zedpOPoaHHAY",
        "outputId": "83300349-84f2-426a-c886-bc8e66b56d72"
      },
      "execution_count": null,
      "outputs": [
        {
          "output_type": "stream",
          "name": "stdout",
          "text": [
            "1\n",
            "4\n",
            "9\n",
            "16\n",
            "25\n",
            "36\n",
            "49\n",
            "64\n",
            "81\n",
            "100\n"
          ]
        }
      ]
    },
    {
      "cell_type": "code",
      "source": [
        "#Q7.  Write a code that generates palindromic numbers up to n using a generator\n",
        "\n",
        "def palindrome_generator(n):\n",
        "    for i in range(1, n + 1):\n",
        "        if str(i) == str(i)[::-1]:\n",
        "            yield i\n",
        "\n",
        "# Example usage:\n",
        "n = 100\n",
        "for num in palindrome_generator(n):\n",
        "    print(num)\n"
      ],
      "metadata": {
        "colab": {
          "base_uri": "https://localhost:8080/"
        },
        "id": "3gENHq38HVfd",
        "outputId": "fd0b5a2c-5da3-4861-dd57-182b995bdae9"
      },
      "execution_count": null,
      "outputs": [
        {
          "output_type": "stream",
          "name": "stdout",
          "text": [
            "1\n",
            "2\n",
            "3\n",
            "4\n",
            "5\n",
            "6\n",
            "7\n",
            "8\n",
            "9\n",
            "11\n",
            "22\n",
            "33\n",
            "44\n",
            "55\n",
            "66\n",
            "77\n",
            "88\n",
            "99\n"
          ]
        }
      ]
    },
    {
      "cell_type": "code",
      "source": [
        "#Q8. Write a code that generates even numbers from 2 to n using a generator\n",
        "\n",
        "\n",
        "def even_number_generator(n):\n",
        "    for i in range(2, n + 1, 2):\n",
        "        yield i\n",
        "\n",
        "# Example usage:\n",
        "n = 10\n",
        "for num in even_number_generator(n):\n",
        "    print(num)\n"
      ],
      "metadata": {
        "colab": {
          "base_uri": "https://localhost:8080/"
        },
        "id": "WP85z2rSHnh-",
        "outputId": "70b76724-0885-4096-ad9b-91fa0833bdf2"
      },
      "execution_count": null,
      "outputs": [
        {
          "output_type": "stream",
          "name": "stdout",
          "text": [
            "2\n",
            "4\n",
            "6\n",
            "8\n",
            "10\n"
          ]
        }
      ]
    },
    {
      "cell_type": "code",
      "source": [
        "#Q9. Write a code that generates powers of two up to n using a generator.\n",
        "\n",
        "def powers_of_two_generator(n):\n",
        "    power = 0\n",
        "    while (2 ** power) <= n:\n",
        "        yield 2 ** power\n",
        "        power += 1\n",
        "\n",
        "# Example usage:\n",
        "n = 100\n",
        "for num in powers_of_two_generator(n):\n",
        "    print(num)\n"
      ],
      "metadata": {
        "colab": {
          "base_uri": "https://localhost:8080/"
        },
        "id": "GQ09fHb0IKha",
        "outputId": "22e9d852-b2b4-4d40-8ed0-1247cb9463a4"
      },
      "execution_count": null,
      "outputs": [
        {
          "output_type": "stream",
          "name": "stdout",
          "text": [
            "1\n",
            "2\n",
            "4\n",
            "8\n",
            "16\n",
            "32\n",
            "64\n"
          ]
        }
      ]
    },
    {
      "cell_type": "code",
      "source": [
        "#Q10. Write a code that generates prime numbers up to n using a generator.\n",
        "\n",
        "def is_prime(num):\n",
        "    if num < 2:\n",
        "        return False\n",
        "    for i in range(2, int(num ** 0.5) + 1):\n",
        "        if num % i == 0:\n",
        "            return False\n",
        "    return True\n",
        "\n",
        "def prime_generator(n):\n",
        "    for i in range(2, n + 1):\n",
        "        if is_prime(i):\n",
        "            yield i\n",
        "\n",
        "# Example usage:\n",
        "n = 50\n",
        "for prime in prime_generator(n):\n",
        "    print(prime)\n"
      ],
      "metadata": {
        "colab": {
          "base_uri": "https://localhost:8080/"
        },
        "id": "fmuQY0yuIeyb",
        "outputId": "dd6092b7-025b-4b46-eefe-a342a0f6967b"
      },
      "execution_count": null,
      "outputs": [
        {
          "output_type": "stream",
          "name": "stdout",
          "text": [
            "2\n",
            "3\n",
            "5\n",
            "7\n",
            "11\n",
            "13\n",
            "17\n",
            "19\n",
            "23\n",
            "29\n",
            "31\n",
            "37\n",
            "41\n",
            "43\n",
            "47\n"
          ]
        }
      ]
    },
    {
      "cell_type": "code",
      "source": [
        "#Q11. Write a code that uses a lambda function to calculate the sum of two numbers.\n",
        "\n",
        "sum_lambda = lambda a, b: a + b\n",
        "\n",
        "# Example usage:\n",
        "result = sum_lambda(5, 7)\n",
        "print(\"Sum:\", result)\n"
      ],
      "metadata": {
        "colab": {
          "base_uri": "https://localhost:8080/"
        },
        "id": "rlgl1hE7IruF",
        "outputId": "35f2274b-674b-4ca2-d735-7d7af199107a"
      },
      "execution_count": null,
      "outputs": [
        {
          "output_type": "stream",
          "name": "stdout",
          "text": [
            "Sum: 12\n"
          ]
        }
      ]
    },
    {
      "cell_type": "code",
      "source": [
        "#Q12. Write a code that uses a lambda function to calculate the square of a given number.\n",
        "\n",
        "square_lambda = lambda x: x ** 2\n",
        "\n",
        "# Example usage:\n",
        "result = square_lambda(6)\n",
        "print(\"Square:\", result)\n"
      ],
      "metadata": {
        "colab": {
          "base_uri": "https://localhost:8080/"
        },
        "id": "8AFZSoOrI2T9",
        "outputId": "3a48946d-d79b-4e36-9efb-6d62e17d35bd"
      },
      "execution_count": null,
      "outputs": [
        {
          "output_type": "stream",
          "name": "stdout",
          "text": [
            "Square: 36\n"
          ]
        }
      ]
    },
    {
      "cell_type": "code",
      "source": [
        "#Q13.  Write a code that uses a lambda function to check whether a given number is even or odd\n",
        "\n",
        "check_even_odd = lambda x: \"Even\" if x % 2 == 0 else \"Odd\"\n",
        "\n",
        "# Example usage:\n",
        "number = 7\n",
        "result = check_even_odd(number)\n",
        "print(f\"{number} is {result}\")\n",
        "\n"
      ],
      "metadata": {
        "colab": {
          "base_uri": "https://localhost:8080/"
        },
        "id": "br-g_NBfJBut",
        "outputId": "913af163-8210-4d24-bab4-74af507378ee"
      },
      "execution_count": null,
      "outputs": [
        {
          "output_type": "stream",
          "name": "stdout",
          "text": [
            "7 is Odd\n"
          ]
        }
      ]
    },
    {
      "cell_type": "code",
      "source": [
        "#Q15. Write a code that uses a lambda function to concatenate two strings.\n",
        "\n",
        "concat_strings = lambda s1, s2: s1 + s2\n",
        "\n",
        "# Example usage:\n",
        "result = concat_strings(\"Hello, \", \"World!\")\n",
        "print(result)\n"
      ],
      "metadata": {
        "colab": {
          "base_uri": "https://localhost:8080/"
        },
        "id": "2xlboB_qJW20",
        "outputId": "5c3f965b-1fc4-4183-d5c7-310630341211"
      },
      "execution_count": null,
      "outputs": [
        {
          "output_type": "stream",
          "name": "stdout",
          "text": [
            "Hello, World!\n"
          ]
        }
      ]
    },
    {
      "cell_type": "code",
      "source": [
        "#Q16. Write a code that uses a lambda function to find the maximum of three given numbers.\n",
        "\n",
        "max_of_three = lambda a, b, c: max(a, b, c)\n",
        "\n",
        "# Example usage:\n",
        "result = max_of_three(10, 25, 15)\n",
        "print(\"Maximum:\", result)\n"
      ],
      "metadata": {
        "colab": {
          "base_uri": "https://localhost:8080/"
        },
        "id": "iIYAv8nWKSer",
        "outputId": "bd51b5c7-87b0-4921-f418-dc11be1558a0"
      },
      "execution_count": null,
      "outputs": [
        {
          "output_type": "stream",
          "name": "stdout",
          "text": [
            "Maximum: 25\n"
          ]
        }
      ]
    },
    {
      "cell_type": "code",
      "source": [
        "#Q17. Write a code that generates the squares of even numbers from a given list.\n",
        "\n",
        "def squares_of_even_numbers(numbers):\n",
        "    for num in numbers:\n",
        "        if num % 2 == 0:\n",
        "            yield num ** 2\n",
        "\n",
        "# Example usage:\n",
        "numbers = [1, 2, 3, 4, 5, 6]\n",
        "for square in squares_of_even_numbers(numbers):\n",
        "    print(square)\n"
      ],
      "metadata": {
        "colab": {
          "base_uri": "https://localhost:8080/"
        },
        "id": "i9qJM3K4Kfrk",
        "outputId": "99c49aa2-9539-46da-b30c-cd1ddad57682"
      },
      "execution_count": null,
      "outputs": [
        {
          "output_type": "stream",
          "name": "stdout",
          "text": [
            "4\n",
            "16\n",
            "36\n"
          ]
        }
      ]
    },
    {
      "cell_type": "code",
      "source": [
        "#Q18. Write a code that calculates the product of positive numbers from a given list.\n",
        "\n",
        "def product_of_positives(numbers):\n",
        "    product = 1\n",
        "    has_positive = False\n",
        "    for num in numbers:\n",
        "        if num > 0:\n",
        "            product *= num\n",
        "            has_positive = True\n",
        "    return product if has_positive else 0  # Return 0 if no positive numbers\n",
        "\n",
        "# Example usage:\n",
        "numbers = [-1, 2, 3, -4, 5]\n",
        "result = product_of_positives(numbers)\n",
        "print(\"Product of positive numbers:\", result)\n"
      ],
      "metadata": {
        "colab": {
          "base_uri": "https://localhost:8080/"
        },
        "id": "P9txntw1Kpq5",
        "outputId": "e48eff8e-50a3-4f29-dfb4-8a455e22eb40"
      },
      "execution_count": null,
      "outputs": [
        {
          "output_type": "stream",
          "name": "stdout",
          "text": [
            "Product of positive numbers: 30\n"
          ]
        }
      ]
    },
    {
      "cell_type": "code",
      "source": [
        "#Q19. Write a code that doubles the values of odd numbers from a given list.\n",
        "\n",
        "def double_odds(numbers):\n",
        "    return [num * 2 if num % 2 != 0 else num for num in numbers]\n",
        "\n",
        "# Example usage:\n",
        "numbers = [1, 2, 3, 4, 5]\n",
        "result = double_odds(numbers)\n",
        "print(result)\n"
      ],
      "metadata": {
        "colab": {
          "base_uri": "https://localhost:8080/"
        },
        "id": "0JeG7K0OKzCI",
        "outputId": "84ff0e42-a20b-48f7-c84f-0423a2c15ba6"
      },
      "execution_count": null,
      "outputs": [
        {
          "output_type": "stream",
          "name": "stdout",
          "text": [
            "[2, 2, 6, 4, 10]\n"
          ]
        }
      ]
    },
    {
      "cell_type": "code",
      "source": [
        "#Q20. Write a code that calculates the sum of cubes of numbers from a given list.\n",
        "\n",
        "def sum_of_cubes(numbers):\n",
        "    return sum(num ** 3 for num in numbers)\n",
        "\n",
        "# Example usage:\n",
        "numbers = [1, 2, 3, 4]\n",
        "result = sum_of_cubes(numbers)\n",
        "print(\"Sum of cubes:\", result)\n"
      ],
      "metadata": {
        "colab": {
          "base_uri": "https://localhost:8080/"
        },
        "id": "kFFiABluK_1Q",
        "outputId": "cad3529c-69fd-4975-9c58-b1f77e065449"
      },
      "execution_count": null,
      "outputs": [
        {
          "output_type": "stream",
          "name": "stdout",
          "text": [
            "Sum of cubes: 100\n"
          ]
        }
      ]
    },
    {
      "cell_type": "code",
      "source": [
        "#Q21. Write a code that filters out prime numbers from a given list.\n",
        "\n",
        "def is_prime(num):\n",
        "    if num < 2:\n",
        "        return False\n",
        "    for i in range(2, int(num ** 0.5) + 1):\n",
        "        if num % i == 0:\n",
        "            return False\n",
        "    return True\n",
        "\n",
        "def filter_primes(numbers):\n",
        "    return [num for num in numbers if is_prime(num)]\n",
        "\n",
        "# Example usage:\n",
        "numbers = [10, 17, 19, 21, 23, 24, 29]\n",
        "primes = filter_primes(numbers)\n",
        "print(\"Prime numbers:\", primes)\n"
      ],
      "metadata": {
        "colab": {
          "base_uri": "https://localhost:8080/"
        },
        "id": "nZyW-zZCLJxO",
        "outputId": "601b2a89-6aca-4494-fb15-9b9460b87deb"
      },
      "execution_count": null,
      "outputs": [
        {
          "output_type": "stream",
          "name": "stdout",
          "text": [
            "Prime numbers: [17, 19, 23, 29]\n"
          ]
        }
      ]
    },
    {
      "cell_type": "code",
      "source": [
        "#Q22. Write a code that uses a lambda function to calculate the sum of two numbers.\n",
        "\n",
        "sum_lambda = lambda a, b: a + b\n",
        "\n",
        "# Example usage:\n",
        "result = sum_lambda(3, 5)\n",
        "print(\"Sum:\", result)\n"
      ],
      "metadata": {
        "colab": {
          "base_uri": "https://localhost:8080/"
        },
        "id": "taW0kEe2LTLA",
        "outputId": "5b7c26ea-431e-4bce-9135-ac430706c597"
      },
      "execution_count": null,
      "outputs": [
        {
          "output_type": "stream",
          "name": "stdout",
          "text": [
            "Sum: 8\n"
          ]
        }
      ]
    },
    {
      "cell_type": "code",
      "source": [
        "#Q23. Write a code that uses a lambda function to calculate the square of a given number.\n",
        "\n",
        "square = lambda x: x ** 2\n",
        "\n",
        "# Example usage:\n",
        "result = square(7)\n",
        "print(\"Square:\", result)\n"
      ],
      "metadata": {
        "colab": {
          "base_uri": "https://localhost:8080/"
        },
        "id": "fmSgKnYBLdW4",
        "outputId": "4a343876-3be0-49de-c6c7-c5b4069bca0d"
      },
      "execution_count": null,
      "outputs": [
        {
          "output_type": "stream",
          "name": "stdout",
          "text": [
            "Square: 49\n"
          ]
        }
      ]
    },
    {
      "cell_type": "code",
      "source": [
        "#Q24. Write a code that uses a lambda function to check whether a given number is even or odd.\n",
        "\n",
        "check_even_odd = lambda x: \"Even\" if x % 2 == 0 else \"Odd\"\n",
        "\n",
        "# Example usage:\n",
        "number = 8\n",
        "result = check_even_odd(number)\n",
        "print(f\"{number} is {result}\")\n"
      ],
      "metadata": {
        "colab": {
          "base_uri": "https://localhost:8080/"
        },
        "id": "ADDQzy57Lm2y",
        "outputId": "bee4014c-a84c-460b-cb11-ed6bbb259e26"
      },
      "execution_count": null,
      "outputs": [
        {
          "output_type": "stream",
          "name": "stdout",
          "text": [
            "8 is Even\n"
          ]
        }
      ]
    },
    {
      "cell_type": "code",
      "source": [
        "#Q25. Write a code that uses a lambda function to concatenate two strings.\n",
        "\n",
        "concat = lambda s1, s2: s1 + s2\n",
        "\n",
        "# Example usage:\n",
        "result = concat(\"Hello, \", \"World!\")\n",
        "print(result)\n"
      ],
      "metadata": {
        "colab": {
          "base_uri": "https://localhost:8080/"
        },
        "id": "w1lz57fdLw5g",
        "outputId": "b22a60a4-cb16-4c6b-e308-67ae99d0e54e"
      },
      "execution_count": null,
      "outputs": [
        {
          "output_type": "stream",
          "name": "stdout",
          "text": [
            "Hello, World!\n"
          ]
        }
      ]
    },
    {
      "cell_type": "code",
      "source": [
        "#Q26. Write a code that uses a lambda function to find the maximum of three given numbers.\n",
        "\n",
        "max_of_three = lambda a, b, c: max(a, b, c)\n",
        "\n",
        "# Example usage:\n",
        "result = max_of_three(4, 15, 9)\n",
        "print(\"Maximum:\", result)\n"
      ],
      "metadata": {
        "colab": {
          "base_uri": "https://localhost:8080/"
        },
        "id": "LsBURvArMBdX",
        "outputId": "6f34debb-f461-47d3-c834-9f5516d2c08e"
      },
      "execution_count": null,
      "outputs": [
        {
          "output_type": "stream",
          "name": "stdout",
          "text": [
            "Maximum: 15\n"
          ]
        }
      ]
    },
    {
      "cell_type": "markdown",
      "source": [
        "Q27. What is encapsulation in OOP?\n",
        "\n",
        "Encapsulation in Object-Oriented Programming (OOP) is the concept of bundling data (attributes) and methods (functions) that operate on that data into a single unit called a class. It restricts direct access to some of an object's components, protecting the internal state and allowing controlled interaction through public methods. This helps maintain data integrity and hides the internal implementation details from the outside world.\n",
        "\n",
        "\n",
        "\n",
        "\n",
        "\n",
        "\n",
        "\n",
        "\n"
      ],
      "metadata": {
        "id": "a2LNUjxMMSZy"
      }
    },
    {
      "cell_type": "markdown",
      "source": [
        "Q28. Explain the use of access modifiers in Python classes?\n",
        "\n",
        "Access modifiers in Python control the visibility and accessibility of class attributes and methods, helping to enforce encapsulation. Python uses naming conventions rather than strict keywords:\n",
        "\n",
        "Public (no underscore): Attributes and methods are accessible from anywhere.\n",
        "Example: self.name\n",
        "\n",
        "Protected (single underscore _): Intended for internal use; should not be accessed outside the class or subclasses, but this is only a convention, not enforced.\n",
        "Example: self._age\n",
        "\n",
        "Private (double underscore __): Name-mangled to prevent accidental access from outside the class, providing stronger access restriction.\n",
        "Example: self.__salary\n",
        "\n",
        "These help manage how data and functions are exposed or hidden, improving code safety and design.\n",
        "\n",
        "\n",
        "\n",
        "\n",
        "\n",
        "\n",
        "\n",
        "\n",
        "\n"
      ],
      "metadata": {
        "id": "WqZmjD3aMfS_"
      }
    },
    {
      "cell_type": "markdown",
      "source": [
        "Q29. What is inheritance in OOP?\n",
        "\n",
        "Inheritance in Object-Oriented Programming (OOP) is a mechanism where a new class (called a child or subclass) derives properties and behaviors (attributes and methods) from an existing class (called a parent or superclass). This promotes code reuse and allows the subclass to extend or customize the parent class’s functionality.\n",
        "\n",
        "\n",
        "\n",
        "\n",
        "\n",
        "\n",
        "\n",
        "\n"
      ],
      "metadata": {
        "id": "0X9sXMFYMs3Z"
      }
    },
    {
      "cell_type": "markdown",
      "source": [
        "Q30. Define polymorphism in OOP?\n",
        "\n",
        "Polymorphism in Object-Oriented Programming (OOP) means \"many forms.\" It allows objects of different classes to be treated as objects of a common superclass, especially when they share the same method names. This lets the same method call behave differently depending on the object’s class, enabling flexibility and dynamic behavior in code.\n",
        "\n",
        "\n",
        "\n",
        "\n",
        "\n",
        "\n",
        "\n",
        "\n"
      ],
      "metadata": {
        "id": "DapaZu-xM9G4"
      }
    },
    {
      "cell_type": "markdown",
      "source": [
        "Q31. Explain method overidng in python?\n",
        "\n",
        "Method overriding in Python occurs when a subclass provides its own implementation of a method that is already defined in its parent class. This allows the subclass to customize or extend the behavior of that method while keeping the same method name."
      ],
      "metadata": {
        "id": "ucoMoeeKNXHv"
      }
    },
    {
      "cell_type": "code",
      "source": [
        "#Q32. Define a parent class Animal with a method make_sound that prints \"Generic animal sound\". Create a child class Dog inheriting from Animal with a method make_sound that prints \"Woof!\".\n",
        "\n",
        "class Animal:\n",
        "    def make_sound(self):\n",
        "        print(\"Generic animal sound\")\n",
        "\n",
        "class Dog(Animal):\n",
        "    def make_sound(self):\n",
        "        print(\"Woof!\")\n",
        "\n",
        "# Example usage:\n",
        "animal = Animal()\n",
        "animal.make_sound()\n",
        "\n",
        "dog = Dog()\n",
        "dog.make_sound()\n"
      ],
      "metadata": {
        "colab": {
          "base_uri": "https://localhost:8080/"
        },
        "id": "F6nucI7XOFmS",
        "outputId": "68fc7c1d-5db5-4f06-d58d-1913ce61355b"
      },
      "execution_count": null,
      "outputs": [
        {
          "output_type": "stream",
          "name": "stdout",
          "text": [
            "Generic animal sound\n",
            "Woof!\n"
          ]
        }
      ]
    },
    {
      "cell_type": "code",
      "source": [
        "#Q33. Define a method move in the Animal class that prints \"Animal moves\". Override the move method in the Dog class to print \"Dog runs.8\n",
        "\n",
        "class Animal:\n",
        "    def make_sound(self):\n",
        "        print(\"Generic animal sound\")\n",
        "\n",
        "    def move(self):\n",
        "        print(\"Animal moves\")\n",
        "\n",
        "class Dog(Animal):\n",
        "    def make_sound(self):\n",
        "        print(\"Woof!\")\n",
        "\n",
        "    def move(self):\n",
        "        print(\"Dog runs\")\n",
        "\n",
        "# Example usage:\n",
        "animal = Animal()\n",
        "animal.move()\n",
        "\n",
        "dog = Dog()\n",
        "dog.move()\n",
        "\n"
      ],
      "metadata": {
        "colab": {
          "base_uri": "https://localhost:8080/"
        },
        "id": "NVRva7G1SjtY",
        "outputId": "df66530a-ff32-4257-bd9c-647b19a57948"
      },
      "execution_count": null,
      "outputs": [
        {
          "output_type": "stream",
          "name": "stdout",
          "text": [
            "Animal moves\n",
            "Dog runs\n"
          ]
        }
      ]
    },
    {
      "cell_type": "code",
      "source": [
        "#Q34. Create a class Mammal with a method reproduce that prints \"Giving birth to live young.\" Create a class DogMammal inheriting from both Dog and Mammal\n",
        "\n",
        "\n",
        "class Animal:\n",
        "    def make_sound(self):\n",
        "        print(\"Generic animal sound\")\n",
        "\n",
        "    def move(self):\n",
        "        print(\"Animal moves\")\n",
        "\n",
        "class Dog(Animal):\n",
        "    def make_sound(self):\n",
        "        print(\"Woof!\")\n",
        "\n",
        "    def move(self):\n",
        "        print(\"Dog runs\")\n",
        "\n",
        "class Mammal:\n",
        "    def reproduce(self):\n",
        "        print(\"Giving birth to live young.\")\n",
        "\n",
        "class DogMammal(Dog, Mammal):\n",
        "    pass\n",
        "\n",
        "# Example usage:\n",
        "dog_mammal = DogMammal()\n",
        "dog_mammal.make_sound()\n",
        "dog_mammal.move()\n",
        "dog_mammal.reproduce()\n"
      ],
      "metadata": {
        "colab": {
          "base_uri": "https://localhost:8080/"
        },
        "id": "aO4BOTk3SyNd",
        "outputId": "8f677576-3ac7-49dd-a825-2778d0afb360"
      },
      "execution_count": null,
      "outputs": [
        {
          "output_type": "stream",
          "name": "stdout",
          "text": [
            "Woof!\n",
            "Dog runs\n",
            "Giving birth to live young.\n"
          ]
        }
      ]
    },
    {
      "cell_type": "code",
      "source": [
        "#Q35. Create a class GermanShepherd inheriting from Dog and override the make_sound method to print \"Bark!\"\n",
        "\n",
        "class GermanShepherd(Dog):\n",
        "    def make_sound(self):\n",
        "        print(\"Bark!\")\n",
        "\n",
        "# Example usage:\n",
        "gs = GermanShepherd()\n",
        "gs.make_sound()\n",
        "gs.move()\n",
        "\n"
      ],
      "metadata": {
        "colab": {
          "base_uri": "https://localhost:8080/"
        },
        "id": "XjsKEv4yTWfY",
        "outputId": "00926c75-2e1e-4a8b-eb90-3e04ca46e176"
      },
      "execution_count": null,
      "outputs": [
        {
          "output_type": "stream",
          "name": "stdout",
          "text": [
            "Bark!\n",
            "Dog runs\n"
          ]
        }
      ]
    },
    {
      "cell_type": "code",
      "source": [
        "#Q36.  Define constructors in both the Animal and Dog classes with different initialization parameters\n",
        "\n",
        "class Animal:\n",
        "    def __init__(self, species):\n",
        "        self.species = species\n",
        "        print(f\"Animal created: Species = {self.species}\")\n",
        "\n",
        "    def make_sound(self):\n",
        "        print(\"Generic animal sound\")\n",
        "\n",
        "    def move(self):\n",
        "        print(\"Animal moves\")\n",
        "\n",
        "class Dog(Animal):\n",
        "    def __init__(self, species, breed):\n",
        "        super().__init__(species)  # Initialize species from Animal\n",
        "        self.breed = breed\n",
        "        print(f\"Dog created: Breed = {self.breed}\")\n",
        "\n",
        "    def make_sound(self):\n",
        "        print(\"Woof!\")\n",
        "\n",
        "    def move(self):\n",
        "        print(\"Dog runs\")\n",
        "\n",
        "# Example usage:\n",
        "animal = Animal(\"Canine\")\n",
        "dog = Dog(\"Canine\", \"Labrador\")\n"
      ],
      "metadata": {
        "colab": {
          "base_uri": "https://localhost:8080/"
        },
        "id": "ZWbxkUuoTrxh",
        "outputId": "038ca588-0c00-4f9a-d400-15e824a5a81f"
      },
      "execution_count": null,
      "outputs": [
        {
          "output_type": "stream",
          "name": "stdout",
          "text": [
            "Animal created: Species = Canine\n",
            "Animal created: Species = Canine\n",
            "Dog created: Breed = Labrador\n"
          ]
        }
      ]
    },
    {
      "cell_type": "markdown",
      "source": [
        "Q37. What is abstraction in Python? How is it implemented?\n",
        "\n",
        "Abstraction in Python (and OOP in general) is the concept of hiding internal implementation details and showing only the essential features of an object. It helps reduce complexity and increases code clarity by exposing only relevant functionality.\n",
        "\n",
        "How abstraction is implemented in Python:\n",
        "Abstraction is typically achieved using abstract classes and abstract methods, provided by the abc (Abstract Base Class) module."
      ],
      "metadata": {
        "id": "dDCqrvb6T-uP"
      }
    },
    {
      "cell_type": "markdown",
      "source": [
        "Q38.Explain the importance of abstraction in object-oriented programming?\n",
        "\n",
        " Importance of Abstraction in OOP:\n",
        "Hides Complexity\n",
        "It hides internal implementation details and shows only what is necessary, making systems easier to use.\n",
        "\n",
        "Improves Code Readability\n",
        "Developers can understand and interact with objects through simple interfaces without knowing the underlying logic.\n",
        "\n",
        "Enhances Maintainability\n",
        "Changes in internal logic don’t affect code that uses the abstracted interface, leading to more maintainable code.\n",
        "\n",
        "Promotes Reusability\n",
        "Abstract classes and interfaces can be reused across different parts of a program or in other projects.\n",
        "\n",
        "Enforces a Blueprint\n",
        "Abstract classes define a contract that subclasses must follow, promoting consistent and structured code.\n",
        "\n",
        "Supports Polymorphism\n",
        "Allows you to use different implementations interchangeably, as long as they follow the same abstract interface."
      ],
      "metadata": {
        "id": "vBUrzXLpUO0e"
      }
    },
    {
      "cell_type": "markdown",
      "source": [
        " Q39. How are abstract methods different from regular methods in Python?\n",
        "\n",
        " | Feature            | Abstract Method                                 | Regular Method                   |\n",
        "| ------------------ | ----------------------------------------------- | -------------------------------- |\n",
        "| **Definition**     | Declared using `@abstractmethod` decorator      | Defined normally using `def`     |\n",
        "| **Implementation** | No implementation in the base (abstract) class  | Has a full implementation        |\n",
        "| **Usage**          | Must be overridden in subclass                  | Can be used as-is or overridden  |\n",
        "| **Instantiation**  | Cannot instantiate class containing it directly | Class can be instantiated freely |\n",
        "| **Purpose**        | Defines a required interface or contract        | Provides actual behavior         |\n"
      ],
      "metadata": {
        "id": "337czfM7Uf8y"
      }
    },
    {
      "cell_type": "markdown",
      "source": [
        "Q40. How can you achieve abstraction using interfaces in Python?\n",
        "\n",
        "Steps to Achieve Abstraction Using Interfaces in Python:\n",
        "Import ABC and abstractmethod from abc.\n",
        "\n",
        "Create a class that inherits from ABC (Abstract Base Class).\n",
        "\n",
        "Use @abstractmethod to define abstract methods.\n",
        "\n",
        "Subclasses must implement all abstract methods to be instantiated."
      ],
      "metadata": {
        "id": "4rJk1bqnVqUW"
      }
    },
    {
      "cell_type": "code",
      "source": [
        "#Q41 Can you provide an example of how abstraction can be utilized to create a common interface for a group of related classes in Python.\n",
        "\n",
        "\n",
        "# Abstract Base Class (Interface)\n",
        "\n",
        "from abc import ABC, abstractmethod\n",
        "\n",
        "class PaymentMethod(ABC):\n",
        "    @abstractmethod\n",
        "    def pay(self, amount):\n",
        "        pass\n",
        "\n",
        "\n",
        "# Concrete Implementations\n",
        "\n",
        "class CreditCardPayment(PaymentMethod):\n",
        "    def pay(self, amount):\n",
        "        print(f\"Paid ${amount} using Credit Card.\")\n",
        "\n",
        "class PayPalPayment(PaymentMethod):\n",
        "    def pay(self, amount):\n",
        "        print(f\"Paid ${amount} using PayPal.\")\n",
        "\n",
        "class BankTransferPayment(PaymentMethod):\n",
        "    def pay(self, amount):\n",
        "        print(f\"Paid ${amount} via Bank Transfer.\")\n",
        "\n",
        "\n",
        "# Usage\n",
        "\n",
        "def process_payment(payment_method: PaymentMethod, amount: float):\n",
        "    payment_method.pay(amount)\n",
        "\n",
        "# Example usage:\n",
        "cc_payment = CreditCardPayment()\n",
        "paypal_payment = PayPalPayment()\n",
        "bank_payment = BankTransferPayment()\n",
        "\n",
        "process_payment(cc_payment, 100)\n",
        "process_payment(paypal_payment, 200)\n",
        "process_payment(bank_payment, 300)\n"
      ],
      "metadata": {
        "colab": {
          "base_uri": "https://localhost:8080/"
        },
        "id": "xxRoSCxXWEg5",
        "outputId": "e17a9863-5edb-4bfb-e905-115fd7d8a789"
      },
      "execution_count": null,
      "outputs": [
        {
          "output_type": "stream",
          "name": "stdout",
          "text": [
            "Paid $100 using Credit Card.\n",
            "Paid $200 using PayPal.\n",
            "Paid $300 via Bank Transfer.\n"
          ]
        }
      ]
    },
    {
      "cell_type": "markdown",
      "source": [
        "Q42. How does Python achieve polymorphism through method overriding?\n",
        "\n",
        "Python achieves polymorphism through method overriding by allowing subclasses to provide a specific implementation of a method that is already defined in their parent (or base) class.\n",
        "\n",
        "What is Method Overriding?\n",
        "Method overriding occurs when:\n",
        "\n",
        "A subclass defines a method with the same name and parameters as one in its parent class.\n",
        "\n",
        "The subclass's method replaces the parent class's version when called on a subclass instance.\n",
        "\n",
        "How This Enables Polymorphism:\n",
        "Polymorphism means \"many forms.\" In OOP, it allows different classes to be treated through a common interface but behave differently."
      ],
      "metadata": {
        "id": "hiXo5C1lW4YK"
      }
    },
    {
      "cell_type": "code",
      "source": [
        "#Q43. Define a base class with a method and a subclass that overrides the method.\n",
        "\n",
        "# Base class\n",
        "class Animal:\n",
        "    def make_sound(self):\n",
        "        print(\"Some generic animal sound\")\n",
        "\n",
        "# Subclass that overrides the method\n",
        "class Dog(Animal):\n",
        "    def make_sound(self):\n",
        "        print(\"Woof!\")\n",
        "\n",
        "# Create instances\n",
        "animal = Animal()\n",
        "dog = Dog()\n",
        "\n",
        "# Call the method\n",
        "animal.make_sound()\n",
        "dog.make_sound()\n"
      ],
      "metadata": {
        "colab": {
          "base_uri": "https://localhost:8080/"
        },
        "id": "YAPY-5rjXOLM",
        "outputId": "489ae264-d431-4b63-eef6-cbcd3dd8ce0b"
      },
      "execution_count": null,
      "outputs": [
        {
          "output_type": "stream",
          "name": "stdout",
          "text": [
            "Some generic animal sound\n",
            "Woof!\n"
          ]
        }
      ]
    },
    {
      "cell_type": "code",
      "source": [
        "#Q44. Define a base class and multiple subclasses with overridden methods.\n",
        "\n",
        "# Base class\n",
        "class Animal:\n",
        "    def make_sound(self):\n",
        "        print(\"Some generic animal sound\")\n",
        "\n",
        "# Subclass 1\n",
        "class Dog(Animal):\n",
        "    def make_sound(self):\n",
        "        print(\"Woof!\")\n",
        "\n",
        "# Subclass 2\n",
        "class Cat(Animal):\n",
        "    def make_sound(self):\n",
        "        print(\"Meow!\")\n",
        "\n",
        "# Subclass 3\n",
        "class Cow(Animal):\n",
        "    def make_sound(self):\n",
        "        print(\"Moo!\")\n",
        "\n",
        "# Function to demonstrate polymorphism\n",
        "def animal_speak(animal):\n",
        "    animal.make_sound()\n",
        "\n",
        "# Create objects\n",
        "animals = [Dog(), Cat(), Cow()]\n",
        "\n",
        "# Call the method on each object\n",
        "for a in animals:\n",
        "    animal_speak(a)\n"
      ],
      "metadata": {
        "colab": {
          "base_uri": "https://localhost:8080/"
        },
        "id": "lCz7Dc5FXg32",
        "outputId": "cd4ba309-d779-4a21-acbd-708fdbea4532"
      },
      "execution_count": null,
      "outputs": [
        {
          "output_type": "stream",
          "name": "stdout",
          "text": [
            "Woof!\n",
            "Meow!\n",
            "Moo!\n"
          ]
        }
      ]
    },
    {
      "cell_type": "markdown",
      "source": [
        "Q45. How does polymorphism improve code readability and reusability?\n",
        "\n",
        " 1. Uniform Interface (Readability)\n",
        "You can write code that works with objects of different types using the same method name. This makes the code easier to understand and maintain.\n",
        "\n",
        "2. Flexible Functionality (Reusability)\n",
        "Polymorphic functions can handle new object types without modification, allowing you to extend code by adding new classes instead of rewriting logic."
      ],
      "metadata": {
        "id": "WwrNLw2tXvh_"
      }
    },
    {
      "cell_type": "markdown",
      "source": [
        "Q46. Describe how Python supports polymorphism with duck typing?\n",
        "\n",
        "Python supports polymorphism through duck typing, a concept where the suitability of an object is determined by the presence of certain methods or properties, rather than the object’s actual type.\n",
        "\n",
        "Key points about duck typing in Python:\n",
        "Focus on behavior, not type: If an object implements the methods or attributes you need, it can be used, regardless of its class inheritance.\n",
        "\n",
        "No need for explicit interfaces: Unlike some languages, Python does not require classes to inherit from a common interface to be polymorphic.\n",
        "\n",
        "Runtime method resolution: Python checks at runtime if the object has the required method or attribute and calls it if available.\n"
      ],
      "metadata": {
        "id": "bcAHJGW0YJ2e"
      }
    },
    {
      "cell_type": "markdown",
      "source": [
        "Q47. How do you achieve encapsulation in Python?\n",
        "\n",
        "You achieve encapsulation in Python by restricting direct access to an object's data (attributes) and methods, usually by using access modifiers and getter/setter methods. This helps protect the internal state and control how it is modified.\n",
        "\n",
        "How to do it in Python:\n",
        "Public attributes/methods: Accessible from anywhere (no underscore).\n",
        "\n",
        "Protected attributes/methods: Indicated by a single underscore _var — a convention meaning \"use with care,\" but not enforced by Python.\n",
        "\n",
        "Private attributes/methods: Indicated by double underscores __var — triggers name mangling to make direct access harder.\n",
        "\n"
      ],
      "metadata": {
        "id": "VSoyO5K1YXWp"
      }
    },
    {
      "cell_type": "markdown",
      "source": [
        "Q48. Can encapsulation be bypassed in Python? If so, how?\n",
        "\n",
        "Yes, encapsulation can be bypassed in Python because its privacy model is based on conventions and name mangling, not strict enforcement like some other languages.\n",
        "\n",
        "How encapsulation can be bypassed:\n",
        "Name mangling changes __var to _ClassName__var internally.\n",
        "\n",
        "You can access a \"private\" variable using this mangled name from outside the class."
      ],
      "metadata": {
        "id": "111HNzr5ZArB"
      }
    },
    {
      "cell_type": "code",
      "source": [
        "#Q49. Implement a class BankAccount with a private balance attribute. Include methods to deposit, withdraw,and check the balance.\n",
        "\n",
        "class BankAccount:\n",
        "    def __init__(self, initial_balance=0):\n",
        "        self.__balance = initial_balance  # Private attribute\n",
        "\n",
        "    def deposit(self, amount):\n",
        "        if amount > 0:\n",
        "            self.__balance += amount\n",
        "            print(f\"Deposited: ${amount}\")\n",
        "        else:\n",
        "            print(\"Deposit amount must be positive.\")\n",
        "\n",
        "    def withdraw(self, amount):\n",
        "        if amount > self.__balance:\n",
        "            print(\"Insufficient funds.\")\n",
        "        elif amount <= 0:\n",
        "            print(\"Withdrawal amount must be positive.\")\n",
        "        else:\n",
        "            self.__balance -= amount\n",
        "            print(f\"Withdrew: ${amount}\")\n",
        "\n",
        "    def get_balance(self):\n",
        "        return self.__balance\n",
        "\n",
        "# Example usage:\n",
        "account = BankAccount(100)\n",
        "account.deposit(50)\n",
        "account.withdraw(30)\n",
        "print(account.get_balance())\n",
        "\n"
      ],
      "metadata": {
        "colab": {
          "base_uri": "https://localhost:8080/"
        },
        "id": "R7_qWlGnZLuc",
        "outputId": "e3ec59c7-021e-4d40-9289-a0ea28cc3e7d"
      },
      "execution_count": null,
      "outputs": [
        {
          "output_type": "stream",
          "name": "stdout",
          "text": [
            "Deposited: $50\n",
            "Withdrew: $30\n",
            "120\n"
          ]
        }
      ]
    },
    {
      "cell_type": "code",
      "source": [
        "#Q50.Develop a Person class with private attributes name and email, and methods to set and get the email\n",
        "\n",
        "\n",
        "class Person:\n",
        "    def __init__(self, name, email):\n",
        "        self.__name = name          # Private attribute\n",
        "        self.__email = email        # Private attribute\n",
        "\n",
        "    def get_email(self):\n",
        "        return self.__email\n",
        "\n",
        "    def set_email(self, new_email):\n",
        "        # You can add validation here if needed\n",
        "        self.__email = new_email\n",
        "\n",
        "    def get_name(self):\n",
        "        return self.__name\n",
        "\n",
        "# Example usage:\n",
        "person = Person(\"Alice\", \"alice@example.com\")\n",
        "print(person.get_email())\n",
        "\n",
        "person.set_email(\"new.email@example.com\")\n",
        "print(person.get_email())\n"
      ],
      "metadata": {
        "colab": {
          "base_uri": "https://localhost:8080/"
        },
        "id": "XuYH1DqoZeDb",
        "outputId": "bd5efa78-be4e-4e21-fadb-bca7c772f6a8"
      },
      "execution_count": null,
      "outputs": [
        {
          "output_type": "stream",
          "name": "stdout",
          "text": [
            "alice@example.com\n",
            "new.email@example.com\n"
          ]
        },
        {
          "output_type": "stream",
          "name": "stderr",
          "text": [
            "/usr/local/lib/python3.11/dist-packages/IPython/core/inputtransformer2.py:478: UserWarning: `make_tokens_by_line` received a list of lines which do not have lineending markers ('\\n', '\\r', '\\r\\n', '\\x0b', '\\x0c'), behavior will be unspecified\n",
            "  warnings.warn(\"`make_tokens_by_line` received a list of lines which do not have lineending markers ('\\\\n', '\\\\r', '\\\\r\\\\n', '\\\\x0b', '\\\\x0c'), behavior will be unspecified\")\n"
          ]
        }
      ]
    },
    {
      "cell_type": "markdown",
      "source": [
        "Q51. Why is encapsulation considered a pillar of object-oriented programming (OOP)?\n",
        "\n",
        "Encapsulation is considered a pillar of OOP because it:\n",
        "\n",
        "Protects Data Integrity: By hiding internal object details and restricting direct access to attributes, it prevents unintended or harmful modifications.\n",
        "\n",
        "Improves Modularity: Encapsulation keeps data and methods bundled, making code easier to manage, understand, and maintain.\n",
        "\n",
        "Enables Controlled Access: Through getter and setter methods, it allows controlled interaction with an object's data, enforcing rules and validation.\n",
        "\n",
        "Supports Abstraction: Encapsulation hides complex internal workings, exposing only what is necessary, simplifying usage."
      ],
      "metadata": {
        "id": "BwOLlrewZwGt"
      }
    },
    {
      "cell_type": "code",
      "source": [
        "#Q52. Create a decorator in Python that adds functionality to a simple function by printing a message before and after the function execution\n",
        "\n",
        "\n",
        "def my_decorator(func):\n",
        "    def wrapper(*args, **kwargs):\n",
        "        print(\"Before the function runs.\")\n",
        "        result = func(*args, **kwargs)\n",
        "        print(\"After the function runs.\")\n",
        "        return result\n",
        "    return wrapper\n",
        "\n",
        "# Example usage:\n",
        "@my_decorator\n",
        "def say_hello():\n",
        "    print(\"Hello!\")\n",
        "\n",
        "say_hello()\n"
      ],
      "metadata": {
        "colab": {
          "base_uri": "https://localhost:8080/"
        },
        "id": "D3aKXqAgaCQK",
        "outputId": "dcbfd144-1e6d-43cc-9d38-3169208e7d79"
      },
      "execution_count": null,
      "outputs": [
        {
          "output_type": "stream",
          "name": "stdout",
          "text": [
            "Before the function runs.\n",
            "Hello!\n",
            "After the function runs.\n"
          ]
        }
      ]
    },
    {
      "cell_type": "code",
      "source": [
        "#Q53.Modify the decorator to accept arguments and print the function name along with the message/\n",
        "\n",
        "def my_decorator_with_args(before_msg, after_msg):\n",
        "    def decorator(func):\n",
        "        def wrapper(*args, **kwargs):\n",
        "            print(f\"{before_msg} Function: {func.__name__}\")\n",
        "            result = func(*args, **kwargs)\n",
        "            print(f\"{after_msg} Function: {func.__name__}\")\n",
        "            return result\n",
        "        return wrapper\n",
        "    return decorator\n",
        "\n",
        "# Example usage:\n",
        "@my_decorator_with_args(\"Starting\", \"Finished\")\n",
        "def greet():\n",
        "    print(\"Hello!\")\n",
        "\n",
        "greet()\n"
      ],
      "metadata": {
        "colab": {
          "base_uri": "https://localhost:8080/"
        },
        "id": "B3HPzMhcacov",
        "outputId": "898b6cb9-ab7c-4a8b-86cc-80708fea4413"
      },
      "execution_count": null,
      "outputs": [
        {
          "output_type": "stream",
          "name": "stdout",
          "text": [
            "Starting Function: greet\n",
            "Hello!\n",
            "Finished Function: greet\n"
          ]
        }
      ]
    },
    {
      "cell_type": "code",
      "source": [
        "#Q54.Create two decorators, and apply them to a single function. Ensure that they execute in the order they are applied\n",
        "\n",
        "def decorator_one(func):\n",
        "    def wrapper(*args, **kwargs):\n",
        "        print(\"Decorator One: Before function\")\n",
        "        result = func(*args, **kwargs)\n",
        "        print(\"Decorator One: After function\")\n",
        "        return result\n",
        "    return wrapper\n",
        "\n",
        "def decorator_two(func):\n",
        "    def wrapper(*args, **kwargs):\n",
        "        print(\"Decorator Two: Before function\")\n",
        "        result = func(*args, **kwargs)\n",
        "        print(\"Decorator Two: After function\")\n",
        "        return result\n",
        "    return wrapper\n",
        "\n",
        "@decorator_one\n",
        "@decorator_two\n",
        "def say_hello():\n",
        "    print(\"Hello!\")\n",
        "\n",
        "say_hello()\n",
        "\n"
      ],
      "metadata": {
        "colab": {
          "base_uri": "https://localhost:8080/"
        },
        "id": "s2joARCHatjw",
        "outputId": "1cb7d5b8-c096-4aac-f0b5-fb1ab11d21da"
      },
      "execution_count": null,
      "outputs": [
        {
          "output_type": "stream",
          "name": "stdout",
          "text": [
            "Decorator One: Before function\n",
            "Decorator Two: Before function\n",
            "Hello!\n",
            "Decorator Two: After function\n",
            "Decorator One: After function\n"
          ]
        }
      ]
    },
    {
      "cell_type": "code",
      "source": [
        "#Q55. Modify the decorator to accept and pass function arguments to the wrapped function/\n",
        "\n",
        "\n",
        "def decorator_with_args(func):\n",
        "    def wrapper(*args, **kwargs):\n",
        "        print(\"Before function execution\")\n",
        "        result = func(*args, **kwargs)  # Pass all arguments to the original function\n",
        "        print(\"After function execution\")\n",
        "        return result\n",
        "    return wrapper\n",
        "\n",
        "# Example usage:\n",
        "@decorator_with_args\n",
        "def greet(name, greeting=\"Hello\"):\n",
        "    print(f\"{greeting}, {name}!\")\n",
        "\n",
        "greet(\"Alice\")\n",
        "greet(\"Bob\", greeting=\"Hi\")\n"
      ],
      "metadata": {
        "colab": {
          "base_uri": "https://localhost:8080/"
        },
        "id": "CkStV0jaa_mL",
        "outputId": "2de396fc-ca53-4df0-90e1-c90bb4525535"
      },
      "execution_count": null,
      "outputs": [
        {
          "output_type": "stream",
          "name": "stdout",
          "text": [
            "Before function execution\n",
            "Hello, Alice!\n",
            "After function execution\n",
            "Before function execution\n",
            "Hi, Bob!\n",
            "After function execution\n"
          ]
        }
      ]
    },
    {
      "cell_type": "code",
      "source": [
        "#Q56. Create a decorator that preserves the metadata of the original function.\n",
        "\n",
        "import functools\n",
        "\n",
        "def my_decorator(func):\n",
        "    @functools.wraps(func)\n",
        "    def wrapper(*args, **kwargs):\n",
        "        print(\"Before function execution\")\n",
        "        result = func(*args, **kwargs)\n",
        "        print(\"After function execution\")\n",
        "        return result\n",
        "    return wrapper\n",
        "\n",
        "# Example usage:\n",
        "@my_decorator\n",
        "def greet(name):\n",
        "    \"\"\"Greets a person by name.\"\"\"\n",
        "    print(f\"Hello, {name}!\")\n",
        "\n",
        "greet(\"Alice\")\n",
        "\n",
        "print(greet.__name__)\n",
        "print(greet.__doc__)\n",
        "\n"
      ],
      "metadata": {
        "colab": {
          "base_uri": "https://localhost:8080/"
        },
        "id": "WJWhOyDbbPMQ",
        "outputId": "13f6088c-1d09-4560-cac4-4c547e724c42"
      },
      "execution_count": null,
      "outputs": [
        {
          "output_type": "stream",
          "name": "stdout",
          "text": [
            "Before function execution\n",
            "Hello, Alice!\n",
            "After function execution\n",
            "greet\n",
            "Greets a person by name.\n"
          ]
        }
      ]
    },
    {
      "cell_type": "code",
      "source": [
        "#Q57. Create a Python class `Calculator` with a static method `add` that takes in two numbers and returns their sum.\n",
        "\n",
        "class Calculator:\n",
        "    @staticmethod\n",
        "    def add(a, b):\n",
        "        return a + b\n",
        "\n",
        "# Example usage:\n",
        "result = Calculator.add(5, 3)\n",
        "print(result)  # Output: 8\n",
        "\n"
      ],
      "metadata": {
        "colab": {
          "base_uri": "https://localhost:8080/"
        },
        "id": "ZYfhhFoHbvj-",
        "outputId": "f1836ba1-2a4a-4f29-aac4-8ed194d1692b"
      },
      "execution_count": null,
      "outputs": [
        {
          "output_type": "stream",
          "name": "stdout",
          "text": [
            "8\n"
          ]
        }
      ]
    },
    {
      "cell_type": "code",
      "source": [
        "#Q58. Create a Python class `Employee` with a class `method get_employee_count` that returns the total number of employees created.\n",
        "\n",
        "\n",
        "class Employee:\n",
        "    _employee_count = 0  # Class variable to track count\n",
        "\n",
        "    def __init__(self, name):\n",
        "        self.name = name\n",
        "        Employee._employee_count += 1\n",
        "\n",
        "    @classmethod\n",
        "    def get_employee_count(cls):\n",
        "        return cls._employee_count\n",
        "\n",
        "# Example usage:\n",
        "e1 = Employee(\"Alice\")\n",
        "e2 = Employee(\"Bob\")\n",
        "\n",
        "print(Employee.get_employee_count())\n"
      ],
      "metadata": {
        "colab": {
          "base_uri": "https://localhost:8080/"
        },
        "id": "L93Thbp4cpPV",
        "outputId": "7c710a9f-ca6b-4f0d-a12b-0cf660645364"
      },
      "execution_count": null,
      "outputs": [
        {
          "output_type": "stream",
          "name": "stdout",
          "text": [
            "2\n"
          ]
        }
      ]
    },
    {
      "cell_type": "code",
      "source": [
        "#Q59. Create a Python class `StringFormatter` with a static method `reverse_string` that takes a string as input and returns its reverse.\n",
        "\n",
        "\n",
        "class StringFormatter:\n",
        "    @staticmethod\n",
        "    def reverse_string(s):\n",
        "        return s[::-1]\n",
        "\n",
        "# Example usage:\n",
        "print(StringFormatter.reverse_string(\"hello\"))\n"
      ],
      "metadata": {
        "colab": {
          "base_uri": "https://localhost:8080/"
        },
        "id": "jvNKzdrtcx5T",
        "outputId": "51826b51-134d-47b1-a912-8fc68bb37077"
      },
      "execution_count": null,
      "outputs": [
        {
          "output_type": "stream",
          "name": "stdout",
          "text": [
            "olleh\n"
          ]
        }
      ]
    },
    {
      "cell_type": "code",
      "source": [
        "#Q60. Create a Python class `Circle` with a class method `calculate_area` that calculates the area of a circle given its radius.\n",
        "\n",
        "import math\n",
        "\n",
        "class Circle:\n",
        "    @classmethod\n",
        "    def calculate_area(cls, radius):\n",
        "        return math.pi * radius ** 2\n",
        "\n",
        "# Example usage:\n",
        "area = Circle.calculate_area(5)\n",
        "print(area)\n",
        "\n"
      ],
      "metadata": {
        "colab": {
          "base_uri": "https://localhost:8080/"
        },
        "id": "6jN6KGdpdMeF",
        "outputId": "68e1d0e9-5f2e-4e98-988b-81b74c25c375"
      },
      "execution_count": null,
      "outputs": [
        {
          "output_type": "stream",
          "name": "stdout",
          "text": [
            "78.53981633974483\n"
          ]
        }
      ]
    },
    {
      "cell_type": "code",
      "source": [
        "#Q61. Create a Python class `TemperatureConverter` with a static method `celsius_to_fahrenheit` that converts Celsius to Fahrenheit.\n",
        "\n",
        "\n",
        "class TemperatureConverter:\n",
        "    @staticmethod\n",
        "    def celsius_to_fahrenheit(celsius):\n",
        "        return (celsius * 9/5) + 32\n",
        "\n",
        "# Example usage:\n",
        "print(TemperatureConverter.celsius_to_fahrenheit(0))\n",
        "print(TemperatureConverter.celsius_to_fahrenheit(100))\n"
      ],
      "metadata": {
        "colab": {
          "base_uri": "https://localhost:8080/"
        },
        "id": "sIktsvH1dd9n",
        "outputId": "dfb5ff57-5859-4f02-b71d-205d8d6da9f7"
      },
      "execution_count": null,
      "outputs": [
        {
          "output_type": "stream",
          "name": "stdout",
          "text": [
            "32.0\n",
            "212.0\n"
          ]
        }
      ]
    },
    {
      "cell_type": "code",
      "source": [
        "#Q62. What is the purpose of the __str__() method in Python classes? Provide an example.\n",
        "\n",
        "#The __str__() method in Python classes defines the informal string representation of an object — what you see when you print the object or convert it to a string with str(). It’s meant to be readable and user-friendly.\n",
        "\n",
        "#Purpose:\n",
        "#Provides a human-readable description of the object.\n",
        "\n",
        "#Used by print() and str() functions.\n",
        "\n",
        "#Helps in debugging and logging.\n",
        "\n",
        "#Example\n",
        "class Person:\n",
        "    def __init__(self, name, age):\n",
        "        self.name = name\n",
        "        self.age = age\n",
        "\n",
        "    def __str__(self):\n",
        "        return f\"Person(name={self.name}, age={self.age})\"\n",
        "\n",
        "p = Person(\"Alice\", 30)\n",
        "print(p)\n",
        "\n"
      ],
      "metadata": {
        "colab": {
          "base_uri": "https://localhost:8080/"
        },
        "id": "h0UnCI4fd2Le",
        "outputId": "2b689d53-70cc-40e6-db43-3145f5d07848"
      },
      "execution_count": null,
      "outputs": [
        {
          "output_type": "stream",
          "name": "stdout",
          "text": [
            "Person(name=Alice, age=30)\n"
          ]
        }
      ]
    },
    {
      "cell_type": "code",
      "source": [
        "#Q63.How does the __len__() method work in Python? Provide an example.\n",
        "\n",
        "#The __len__() method in Python defines the behavior of the built-in len() function for an object. When you call len(obj), Python internally calls obj.__len__() to get the length or size of the object.\n",
        "\n",
        "#How it works:\n",
        "#You implement __len__() in your class to return an integer representing the length.\n",
        "\n",
        "#len(obj) calls this method.\n",
        "\n",
        "#Example\n",
        "class MyList:\n",
        "    def __init__(self, items):\n",
        "        self.items = items\n",
        "\n",
        "    def __len__(self):\n",
        "        return len(self.items)\n",
        "\n",
        "my_list = MyList([1, 2, 3, 4, 5])\n",
        "print(len(my_list))\n"
      ],
      "metadata": {
        "id": "xSZ1XXTAeU_q"
      },
      "execution_count": null,
      "outputs": []
    },
    {
      "cell_type": "code",
      "source": [
        "#Q64. Explain the usage of the __add__() method in Python classes. Provide an example.\n",
        "\n",
        "#The __add__() method in Python lets you define custom behavior for the + operator when used with instances of your class. It allows objects to be added together in a way you specify.\n",
        "\n",
        "#Usage:\n",
        "#Implement __add__(self, other) in your class.\n",
        "\n",
        "#It should return the result of adding self and other.\n",
        "\n",
        "#Enables expressions like obj1 + obj2.\n",
        "\n",
        "#Example\n",
        "class Point:\n",
        "    def __init__(self, x, y):\n",
        "        self.x = x\n",
        "        self.y = y\n",
        "\n",
        "    def __add__(self, other):\n",
        "        return Point(self.x + other.x, self.y + other.y)\n",
        "\n",
        "    def __str__(self):\n",
        "        return f\"Point({self.x}, {self.y})\"\n",
        "\n",
        "p1 = Point(2, 3)\n",
        "p2 = Point(4, 5)\n",
        "p3 = p1 + p2\n",
        "\n",
        "print(p3)\n"
      ],
      "metadata": {
        "colab": {
          "base_uri": "https://localhost:8080/"
        },
        "id": "3QvYQc-Fe2Lw",
        "outputId": "927c1c64-cc74-4535-adca-29fb85442278"
      },
      "execution_count": null,
      "outputs": [
        {
          "output_type": "stream",
          "name": "stdout",
          "text": [
            "Point(6, 8)\n"
          ]
        }
      ]
    },
    {
      "cell_type": "code",
      "source": [
        "#Q65. What is the purpose of the __getitem__() method in Python? Provide an example.\n",
        "\n",
        "#The __getitem__() method in Python allows an object to use the square bracket notation [] for accessing elements, like lists or dictionaries do. It defines how your object responds to indexing or key-based lookup.\n",
        "\n",
        "#Purpose:\n",
        "#Enables syntax like obj[key].\n",
        "\n",
        "#Makes your class behave like a container.\n",
        "\n",
        "#Useful for custom collections or data structures.\n",
        "\n",
        "#Example:\n",
        "class MyList:\n",
        "    def __init__(self, items):\n",
        "        self.items = items\n",
        "\n",
        "    def __getitem__(self, index):\n",
        "        return self.items[index]\n",
        "\n",
        "my_list = MyList([10, 20, 30, 40])\n",
        "print(my_list[2])\n"
      ],
      "metadata": {
        "colab": {
          "base_uri": "https://localhost:8080/"
        },
        "id": "diC2DPM8gr_f",
        "outputId": "302bf937-da29-462e-c4ff-0a469bae08d3"
      },
      "execution_count": null,
      "outputs": [
        {
          "output_type": "stream",
          "name": "stdout",
          "text": [
            "30\n"
          ]
        }
      ]
    },
    {
      "cell_type": "code",
      "source": [
        "#Q66. Explain the usage of the __iter__() and __next__() methods in Python. Provide an example using iterators/\n",
        "\n",
        "#The __iter__() and __next__() methods in Python are used to create iterators, which allow objects to be iterated over (e.g., in a for loop).\n",
        "\n",
        "#How they work:\n",
        "#__iter__(): Returns the iterator object itself. It is called once when the iteration starts.\n",
        "\n",
        "#__next__(): Returns the next item in the sequence. It is called repeatedly by the iteration mechanism. When there are no more items, it raises a StopIteration exception to signal the end.\n",
        "\n",
        "#Example of a simple iterator class:\n",
        "\n",
        "class CountUpTo:\n",
        "    def __init__(self, limit):\n",
        "        self.limit = limit\n",
        "        self.current = 1\n",
        "\n",
        "    def __iter__(self):\n",
        "        return self  # The iterator object\n",
        "\n",
        "    def __next__(self):\n",
        "        if self.current <= self.limit:\n",
        "            num = self.current\n",
        "            self.current += 1\n",
        "            return num\n",
        "        else:\n",
        "            raise StopIteration\n",
        "\n",
        "# Using the iterator:\n",
        "counter = CountUpTo(5)\n",
        "for number in counter:\n",
        "    print(number)\n",
        "\n",
        "\n"
      ],
      "metadata": {
        "colab": {
          "base_uri": "https://localhost:8080/"
        },
        "id": "2UaHi-K8hB3h",
        "outputId": "940b4f84-4547-49e9-f72a-da8115138aab"
      },
      "execution_count": null,
      "outputs": [
        {
          "output_type": "stream",
          "name": "stdout",
          "text": [
            "1\n",
            "2\n",
            "3\n",
            "4\n",
            "5\n"
          ]
        }
      ]
    },
    {
      "cell_type": "code",
      "source": [
        "#Q67. What is the purpose of a getter method in Python? Provide an example demonstrating the use of a getter method using property decorators.\n",
        "\n",
        "#A getter method in Python is used to access (get) the value of a private or protected attribute safely, often adding control or logic when retrieving the value.\n",
        "\n",
        "#Using the @property decorator, you can define a getter method that allows you to access the attribute like a normal property, while still controlling access behind the scenes.\n",
        "\n",
        "#Purpose:\n",
        "#Encapsulate access to private attributes.\n",
        "\n",
        "#Add validation or computation on access.\n",
        "\n",
        "#Make attribute access cleaner and more Pythonic.\n",
        "\n",
        "#Example with @property:\n",
        "class Person:\n",
        "    def __init__(self, name):\n",
        "        self._name = name  # Private attribute by convention\n",
        "\n",
        "    @property\n",
        "    def name(self):\n",
        "        # Getter method to access _name\n",
        "        return self._name\n",
        "\n",
        "p = Person(\"Alice\")\n",
        "print(p.name)  # Accesses the getter\n"
      ],
      "metadata": {
        "colab": {
          "base_uri": "https://localhost:8080/"
        },
        "id": "B4IKyixKhXRC",
        "outputId": "8cdc44f8-b69e-4af1-ab78-91582e2031df"
      },
      "execution_count": null,
      "outputs": [
        {
          "output_type": "stream",
          "name": "stdout",
          "text": [
            "Alice\n"
          ]
        }
      ]
    },
    {
      "cell_type": "code",
      "source": [
        "#Q68. Explain the role of setter methods in Python. Demonstrate how to use a setter method to modify a class attribute using property decorators.\n",
        "\n",
        "#Role of Setter Methods in Python:\n",
        "#A setter method is used to set or modify the value of a private or protected attribute in a controlled way. It helps enforce validation or side effects when a value is changed.\n",
        "\n",
        "#With @property decorators, Python allows you to define a setter for a property, enabling clean syntax like obj.attribute = value while still running custom logic behind the scenes.\n",
        "\n",
        "#Example Using @property and Setter:\n",
        "\n",
        "class Person:\n",
        "    def __init__(self, name):\n",
        "        self._name = name\n",
        "\n",
        "    @property\n",
        "    def name(self):\n",
        "        # Getter method\n",
        "        return self._name\n",
        "\n",
        "    @name.setter\n",
        "    def name(self, value):\n",
        "        # Setter method with validation\n",
        "        if not value:\n",
        "            raise ValueError(\"Name cannot be empty.\")\n",
        "        self._name = value\n",
        "\n",
        "# Usage\n",
        "p = Person(\"Alice\")\n",
        "print(p.name)\n",
        "p.name = \"Bob\"\n",
        "print(p.name)\n"
      ],
      "metadata": {
        "colab": {
          "base_uri": "https://localhost:8080/"
        },
        "id": "GoyqTbI_h0Pr",
        "outputId": "4f700ef4-7cbc-4c29-c0a1-ac20fc4e9a4f"
      },
      "execution_count": null,
      "outputs": [
        {
          "output_type": "stream",
          "name": "stdout",
          "text": [
            "Alice\n",
            "Bob\n"
          ]
        }
      ]
    },
    {
      "cell_type": "code",
      "source": [
        "#Q69. What is the purpose of the @property decorator in Python? Provide an example illustrating its usage.\n",
        "\n",
        "#Purpose of @property in Python:\n",
        "#The @property decorator allows you to define methods that can be accessed like attributes. It is used to implement getter methods that provide controlled access to private instance variables—enabling encapsulation while maintaining clean, readable syntax.\n",
        "\n",
        "#Why use @property?\n",
        "#Hides implementation details.\n",
        "\n",
        "#Enables attribute-like access to method logic.\n",
        "\n",
        "#Useful for computed or validated values.\n",
        "\n",
        "#Example:\n",
        "class Circle:\n",
        "    def __init__(self, radius):\n",
        "        self._radius = radius\n",
        "\n",
        "    @property\n",
        "    def area(self):\n",
        "        # Read-only property: calculated on access\n",
        "        return 3.1416 * self._radius ** 2\n",
        "\n",
        "    @property\n",
        "    def radius(self):\n",
        "        return self._radius\n",
        "\n",
        "    @radius.setter\n",
        "    def radius(self, value):\n",
        "        if value < 0:\n",
        "            raise ValueError(\"Radius must be non-negative.\")\n",
        "        self._radius = value\n",
        "\n",
        "# Usage\n",
        "c = Circle(5)\n",
        "print(c.area)\n",
        "c.radius = 3\n",
        "print(c.area)\n"
      ],
      "metadata": {
        "colab": {
          "base_uri": "https://localhost:8080/"
        },
        "id": "RKxhWzjKiSvM",
        "outputId": "65117e09-0edf-4576-eb33-5ff7ba07c02a"
      },
      "execution_count": null,
      "outputs": [
        {
          "output_type": "stream",
          "name": "stdout",
          "text": [
            "78.53999999999999\n",
            "28.2744\n"
          ]
        }
      ]
    },
    {
      "cell_type": "code",
      "source": [
        "#Q70. Explain the use of the @deleter decorator in Python property decorators. Provide a code example demonstrating its application.\n",
        "\n",
        "#Use of the @deleter Decorator in Python:\n",
        "#The @deleter decorator is used to define a method that is called when the del statement is used on a property. It's part of Python's property decorator system, along with @property (getter) and @setter.\n",
        "\n",
        "#It allows you to control or restrict deletion of an attribute, or to perform cleanup operations.\n",
        "\n",
        "#Example:\n",
        "\n",
        "class Person:\n",
        "    def __init__(self, name):\n",
        "        self._name = name\n",
        "\n",
        "    @property\n",
        "    def name(self):\n",
        "        # Getter\n",
        "        return self._name\n",
        "\n",
        "    @name.setter\n",
        "    def name(self, value):\n",
        "        # Setter\n",
        "        if not value:\n",
        "            raise ValueError(\"Name cannot be empty.\")\n",
        "        self._name = value\n",
        "\n",
        "    @name.deleter\n",
        "    def name(self):\n",
        "        # Deleter\n",
        "        print(\"Deleting name...\")\n",
        "        del self._name\n",
        "\n",
        "# Usage\n",
        "p = Person(\"Alice\")\n",
        "print(p.name)\n",
        "del p.name\n",
        "# print(p.name)\n"
      ],
      "metadata": {
        "colab": {
          "base_uri": "https://localhost:8080/"
        },
        "id": "5YKBm6dVivAf",
        "outputId": "b63eb8e7-fcab-4642-ea4a-a77095365195"
      },
      "execution_count": null,
      "outputs": [
        {
          "output_type": "stream",
          "name": "stdout",
          "text": [
            "Alice\n",
            "Deleting name...\n"
          ]
        }
      ]
    },
    {
      "cell_type": "code",
      "source": [
        "#Q71. How does encapsulation relate to property decorators in Python? Provide an example showcasing encapsulation using property decorators.\n",
        "\n",
        "#How Encapsulation Relates to Property Decorators in Python:\n",
        "#Encapsulation is a core principle of OOP that restricts direct access to object data and allows it to be accessed or modified only through well-defined interfaces. In Python, this is commonly achieved by:\n",
        "\n",
        "#Making attributes private or protected (e.g., using _attribute or __attribute)\n",
        "\n",
        "#Providing controlled access using @property decorators (getter, setter, deleter)\n",
        "\n",
        "#The @property decorator allows you to expose private data as public properties while still applying validation, logic, or read-only constraints behind the scenes.\n",
        "\n",
        "#Example of Encapsulation Using Property Decorators:\n",
        "\n",
        "class BankAccount:\n",
        "    def __init__(self, owner, balance):\n",
        "        self._owner = owner\n",
        "        self._balance = balance  # Private attribute\n",
        "\n",
        "    @property\n",
        "    def balance(self):\n",
        "        # Getter for balance\n",
        "        return self._balance\n",
        "\n",
        "    @balance.setter\n",
        "    def balance(self, amount):\n",
        "        # Setter with validation\n",
        "        if amount < 0:\n",
        "            raise ValueError(\"Balance cannot be negative.\")\n",
        "        self._balance = amount\n",
        "\n",
        "    @balance.deleter\n",
        "    def balance(self):\n",
        "        print(\"Deleting balance...\")\n",
        "        del self._balance\n",
        "\n",
        "# Usage\n",
        "account = BankAccount(\"Alice\", 1000)\n",
        "print(account.balance)\n",
        "account.balance = 1500\n",
        "print(account.balance)\n",
        "# del account.balance\n"
      ],
      "metadata": {
        "colab": {
          "base_uri": "https://localhost:8080/"
        },
        "id": "eU3V4qjsjH_F",
        "outputId": "c7e3462d-6d98-4450-8146-9cae2fc724d3"
      },
      "execution_count": null,
      "outputs": [
        {
          "output_type": "stream",
          "name": "stdout",
          "text": [
            "1000\n",
            "1500\n"
          ]
        }
      ]
    }
  ]
}